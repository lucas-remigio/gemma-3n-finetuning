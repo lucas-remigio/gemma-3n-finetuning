{
 "cells": [
  {
   "cell_type": "code",
   "execution_count": 1,
   "id": "aa91a694",
   "metadata": {},
   "outputs": [
    {
     "name": "stderr",
     "output_type": "stream",
     "text": [
      "/Users/lucasremigio/Developer/local-llm/venv/lib/python3.11/site-packages/tqdm/auto.py:21: TqdmWarning: IProgress not found. Please update jupyter and ipywidgets. See https://ipywidgets.readthedocs.io/en/stable/user_install.html\n",
      "  from .autonotebook import tqdm as notebook_tqdm\n"
     ]
    }
   ],
   "source": [
    "from transformers import AutoModelForCausalLM, AutoTokenizer\n",
    "from peft import PeftModel\n",
    "import torch"
   ]
  },
  {
   "cell_type": "code",
   "execution_count": 2,
   "id": "c8db299a",
   "metadata": {},
   "outputs": [
    {
     "name": "stdout",
     "output_type": "stream",
     "text": [
      "Loading your finetuned model...\n"
     ]
    },
    {
     "name": "stderr",
     "output_type": "stream",
     "text": [
      "Loading checkpoint shards: 100%|██████████| 3/3 [00:29<00:00,  9.99s/it]\n"
     ]
    }
   ],
   "source": [
    "print(\"Loading your finetuned model...\")\n",
    "base_model = AutoModelForCausalLM.from_pretrained(\n",
    "    \"google/gemma-3n-E2B-it\",\n",
    "    dtype=torch.float16,\n",
    ")"
   ]
  },
  {
   "cell_type": "code",
   "execution_count": 3,
   "id": "46cdcbaf",
   "metadata": {},
   "outputs": [
    {
     "name": "stdout",
     "output_type": "stream",
     "text": [
      "Merging LoRA weights...\n"
     ]
    },
    {
     "name": "stderr",
     "output_type": "stream",
     "text": [
      "/Users/lucasremigio/Developer/local-llm/venv/lib/python3.11/site-packages/bitsandbytes/cextension.py:34: UserWarning: The installed version of bitsandbytes was compiled without GPU support. 8-bit optimizers, 8-bit multiplication, and GPU quantization are unavailable.\n",
      "  warn(\"The installed version of bitsandbytes was compiled without GPU support. \"\n"
     ]
    },
    {
     "name": "stdout",
     "output_type": "stream",
     "text": [
      "'NoneType' object has no attribute 'cadam32bit_grad_fp32'\n"
     ]
    }
   ],
   "source": [
    "print(\"Merging LoRA weights...\")\n",
    "model = PeftModel.from_pretrained(base_model, \"outputs/lora\")\n",
    "model = model.merge_and_unload()"
   ]
  },
  {
   "cell_type": "code",
   "execution_count": 5,
   "id": "b91522d3",
   "metadata": {},
   "outputs": [
    {
     "name": "stdout",
     "output_type": "stream",
     "text": [
      "Saving merged model...\n"
     ]
    }
   ],
   "source": [
    "print(\"Saving merged model...\")\n",
    "model.save_pretrained(\"outputs/merged_model\")"
   ]
  },
  {
   "cell_type": "code",
   "execution_count": 6,
   "id": "91da95d2",
   "metadata": {},
   "outputs": [
    {
     "name": "stdout",
     "output_type": "stream",
     "text": [
      "Saving tokenizer...\n",
      "Done! Now convert to GGUF using llama.cpp\n"
     ]
    }
   ],
   "source": [
    "print(\"Saving tokenizer...\")\n",
    "tokenizer = AutoTokenizer.from_pretrained(\"outputs/lora\")\n",
    "tokenizer.save_pretrained(\"outputs/merged_model\")\n",
    "\n",
    "\n",
    "print(\"Done! Now convert to GGUF using llama.cpp\")"
   ]
  },
  {
   "cell_type": "code",
   "execution_count": 7,
   "id": "eafedf54",
   "metadata": {},
   "outputs": [
    {
     "name": "stdout",
     "output_type": "stream",
     "text": [
      "Copying tokenizer.model from base model...\n",
      "✓ tokenizer.model copied\n"
     ]
    }
   ],
   "source": [
    "# Llama.cpp needs a tokenizer.model file, so copy it from the base model\n",
    "import shutil\n",
    "import os\n",
    "\n",
    "print(\"Copying tokenizer.model from base model...\")\n",
    "base_tokenizer_path = \"~/.cache/huggingface/hub/models--google--gemma-3n-E2B-it/snapshots\"\n",
    "\n",
    "# Find the snapshot directory\n",
    "cache_dir = os.path.expanduser(base_tokenizer_path)\n",
    "if os.path.exists(cache_dir):\n",
    "    # Get the latest snapshot\n",
    "    snapshots = os.listdir(cache_dir)\n",
    "    if snapshots:\n",
    "        latest_snapshot = os.path.join(cache_dir, snapshots[0])\n",
    "        tokenizer_model_src = os.path.join(latest_snapshot, \"tokenizer.model\")\n",
    "        \n",
    "        if os.path.exists(tokenizer_model_src):\n",
    "            shutil.copy(tokenizer_model_src, \"outputs/merged_model/tokenizer.model\")\n",
    "            print(\"✓ tokenizer.model copied\")\n",
    "        else:\n",
    "            print(\"⚠️ tokenizer.model not found in cache\")\n",
    "else:\n",
    "    print(\"⚠️ Cache directory not found\")"
   ]
  }
 ],
 "metadata": {
  "kernelspec": {
   "display_name": "venv",
   "language": "python",
   "name": "python3"
  },
  "language_info": {
   "codemirror_mode": {
    "name": "ipython",
    "version": 3
   },
   "file_extension": ".py",
   "mimetype": "text/x-python",
   "name": "python",
   "nbconvert_exporter": "python",
   "pygments_lexer": "ipython3",
   "version": "3.11.12"
  }
 },
 "nbformat": 4,
 "nbformat_minor": 5
}
